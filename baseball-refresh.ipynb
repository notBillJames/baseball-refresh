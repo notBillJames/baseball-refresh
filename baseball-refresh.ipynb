{
 "cells": [
  {
   "cell_type": "markdown",
   "id": "958e4d27",
   "metadata": {},
   "source": [
    "# Baseball Refresh\n",
    "\n",
    "A notebook to use for practicing, relearning, and experimenting with lost and new python skills alike."
   ]
  },
  {
   "cell_type": "code",
   "execution_count": null,
   "id": "a0adaa9b",
   "metadata": {},
   "outputs": [],
   "source": [
    "import os\n",
    "import pandas as pd\n",
    "import numpy as np\n",
    "import matplotlib.pyplot as plt\n",
    "import seaborn as sns"
   ]
  },
  {
   "cell_type": "code",
   "execution_count": null,
   "id": "d842be58",
   "metadata": {},
   "outputs": [],
   "source": [
    "folder_path = \"lahman_1871-2024\"  # Path to the folder containing CSV files\n",
    "csv_files = [f for f in os.listdir(folder_path) if f.endswith(\".csv\")]\n",
    "\n",
    "dataframes = {}  # Dictionary to store DataFrames by filename (without .csv)\n",
    "\n",
    "for file in csv_files:\n",
    "    file_path = os.path.join(folder_path, file)\n",
    "    df_name = os.path.splitext(file)[0]  # Use filename without .csv as key\n",
    "    dataframes[df_name] = pd.read_csv(file_path)\n",
    "\n",
    "# Now you can access each dataframe like this:\n",
    "print(dataframes.keys())        # All the dataframe names"
   ]
  },
  {
   "cell_type": "code",
   "execution_count": null,
   "id": "31c0f693",
   "metadata": {},
   "outputs": [],
   "source": [
    "print(dataframes.keys())"
   ]
  },
  {
   "cell_type": "code",
   "execution_count": null,
   "id": "d0f7f0bb",
   "metadata": {},
   "outputs": [],
   "source": [
    "print(csv_files)"
   ]
  }
 ],
 "metadata": {
  "kernelspec": {
   "display_name": ".venv",
   "language": "python",
   "name": "python3"
  },
  "language_info": {
   "codemirror_mode": {
    "name": "ipython",
    "version": 3
   },
   "file_extension": ".py",
   "mimetype": "text/x-python",
   "name": "python",
   "nbconvert_exporter": "python",
   "pygments_lexer": "ipython3",
   "version": "3.13.3"
  }
 },
 "nbformat": 4,
 "nbformat_minor": 5
}
