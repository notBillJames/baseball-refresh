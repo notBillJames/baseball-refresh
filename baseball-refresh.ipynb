{
 "cells": [
  {
   "cell_type": "markdown",
   "id": "958e4d27",
   "metadata": {},
   "source": [
    "# Baseball Refresh\n",
    "\n",
    "A notebook to use for practicing, relearning, and experimenting with lost and new python skills alike."
   ]
  },
  {
   "cell_type": "code",
   "execution_count": 13,
   "id": "a0adaa9b",
   "metadata": {},
   "outputs": [],
   "source": [
    "import os\n",
    "import pandas as pd\n",
    "import numpy as np\n",
    "import matplotlib.pyplot as plt\n",
    "import seaborn as sns"
   ]
  },
  {
   "cell_type": "code",
   "execution_count": 14,
   "id": "d842be58",
   "metadata": {},
   "outputs": [
    {
     "name": "stdout",
     "output_type": "stream",
     "text": [
      "dict_keys(['AllstarFull', 'Appearances', 'AwardsManagers', 'AwardsPlayers', 'AwardsShareManagers', 'AwardsSharePlayers', 'Batting', 'BattingPost', 'CollegePlaying', 'Fielding', 'FieldingOF', 'FieldingOFsplit', 'FieldingPost', 'HallOfFame', 'HomeGames', 'Managers', 'ManagersHalf', 'Parks', 'People', 'Pitching', 'PitchingPost', 'Salaries', 'Schools', 'SeriesPost', 'Teams', 'TeamsFranchises', 'TeamsHalf'])\n"
     ]
    }
   ],
   "source": [
    "folder_path = \"lahman_1871-2024\"  # Path to the folder containing CSV files\n",
    "csv_files = [f for f in os.listdir(folder_path) if f.endswith(\".csv\")]\n",
    "\n",
    "dataframes = {}  # Dictionary to store DataFrames by filename (without .csv)\n",
    "\n",
    "for file in csv_files:\n",
    "    file_path = os.path.join(folder_path, file)\n",
    "    df_name = os.path.splitext(file)[0]  # Use filename without .csv as key\n",
    "    dataframes[df_name] = pd.read_csv(file_path)\n",
    "\n",
    "# Now you can access each dataframe like this:\n",
    "print(dataframes.keys())        # All the dataframe names"
   ]
  },
  {
   "cell_type": "code",
   "execution_count": 17,
   "id": "31c0f693",
   "metadata": {},
   "outputs": [],
   "source": [
    "pitching = dataframes['Pitching']\n",
    "batting = dataframes['Batting']\n",
    "people = dataframes['People']"
   ]
  }
 ],
 "metadata": {
  "kernelspec": {
   "display_name": ".venv",
   "language": "python",
   "name": "python3"
  },
  "language_info": {
   "codemirror_mode": {
    "name": "ipython",
    "version": 3
   },
   "file_extension": ".py",
   "mimetype": "text/x-python",
   "name": "python",
   "nbconvert_exporter": "python",
   "pygments_lexer": "ipython3",
   "version": "3.13.3"
  }
 },
 "nbformat": 4,
 "nbformat_minor": 5
}
